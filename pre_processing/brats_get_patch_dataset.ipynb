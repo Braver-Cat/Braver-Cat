{
 "cells": [
  {
   "cell_type": "code",
   "execution_count": 1,
   "metadata": {},
   "outputs": [],
   "source": [
    "import torch\n",
    "from torch.utils.data.dataloader import DataLoader\n",
    "\n",
    "import sys\n",
    "\n",
    "# Setting path so as we can find files in ../src folder\n",
    "sys.path.append('../src')\n",
    "\n",
    "from BRATS2013Dataset import BRATS2013Dataset\n",
    "\n",
    "from tqdm.autonotebook import tqdm\n",
    "\n",
    "import numpy as np\n",
    "\n",
    "import json\n",
    "\n",
    "import skimage\n",
    "\n",
    "from pprint import pprint\n",
    "\n",
    "from matplotlib import pyplot as plt\n",
    "\n",
    "import modin.pandas as pd\n",
    "\n",
    "import os\n",
    "os.environ[\"MODIN_ENGINE\"] = \"ray\"  # Modin will use Dask\n",
    "\n",
    "\n"
   ]
  },
  {
   "cell_type": "code",
   "execution_count": 2,
   "metadata": {},
   "outputs": [],
   "source": [
    "DATASET_NAME = \"brats_2013\"\n",
    "DATASET_SPLIT = \"test\"\n",
    "DATASET_PATH = f\"../data/{DATASET_NAME}_obs_path_list_unstacked_resized_cleaned_{DATASET_SPLIT}.txt\"\n",
    "\n",
    "obs_list = []\n",
    "\n",
    "with open(DATASET_PATH) as file:\n",
    "  for line in file:\n",
    "    obs_list.append(line.rstrip())"
   ]
  },
  {
   "cell_type": "code",
   "execution_count": 3,
   "metadata": {},
   "outputs": [],
   "source": [
    "PATCH_SIZE = 33"
   ]
  },
  {
   "cell_type": "code",
   "execution_count": 4,
   "metadata": {},
   "outputs": [],
   "source": [
    "dataset = BRATS2013Dataset(\n",
    "  obs_list=obs_list, stage=DATASET_SPLIT, patch_size=PATCH_SIZE\n",
    ")"
   ]
  },
  {
   "cell_type": "code",
   "execution_count": 5,
   "metadata": {},
   "outputs": [
    {
     "data": {
      "application/vnd.jupyter.widget-view+json": {
       "model_id": "adc6fe61bc744d038baaaf9ad3f389cd",
       "version_major": 2,
       "version_minor": 0
      },
      "text/plain": [
       "  0%|          | 0/331 [00:00<?, ?it/s]"
      ]
     },
     "metadata": {},
     "output_type": "display_data"
    }
   ],
   "source": [
    "df_list = []\n",
    "\n",
    "for entry in tqdm(dataset):\n",
    "  patch_metadata = entry[\"patch_metadata\"]\n",
    "  img_path = entry[\"full_path\"]\n",
    "\n",
    "  for label in patch_metadata:\n",
    "    for patch_id in patch_metadata[label]:\n",
    "      \n",
    "      df_list.append(\n",
    "        {\n",
    "          \"patch_id\": patch_id,\n",
    "          \"label\": label,\n",
    "          \"img_path\": img_path\n",
    "        }\n",
    "      )\n",
    "\n"
   ]
  },
  {
   "cell_type": "code",
   "execution_count": 6,
   "metadata": {},
   "outputs": [
    {
     "name": "stderr",
     "output_type": "stream",
     "text": [
      "2022-12-30 11:27:50,799\tINFO worker.py:1538 -- Started a local Ray instance.\n"
     ]
    }
   ],
   "source": [
    "df = pd.DataFrame(df_list)"
   ]
  },
  {
   "cell_type": "code",
   "execution_count": 7,
   "metadata": {},
   "outputs": [],
   "source": [
    "PATCH_DATASET_PATH = f\"../data/{DATASET_NAME}_patch_{PATCH_SIZE}_df_{DATASET_SPLIT}.json\""
   ]
  },
  {
   "cell_type": "code",
   "execution_count": 8,
   "metadata": {},
   "outputs": [],
   "source": [
    "df.to_json(PATCH_DATASET_PATH)\n"
   ]
  }
 ],
 "metadata": {
  "kernelspec": {
   "display_name": "Python (Braver-Cat)",
   "language": "python",
   "name": "braver-cat"
  },
  "language_info": {
   "codemirror_mode": {
    "name": "ipython",
    "version": 3
   },
   "file_extension": ".py",
   "mimetype": "text/x-python",
   "name": "python",
   "nbconvert_exporter": "python",
   "pygments_lexer": "ipython3",
   "version": "3.10.4"
  },
  "orig_nbformat": 4,
  "vscode": {
   "interpreter": {
    "hash": "916dbcbb3f70747c44a77c7bcd40155683ae19c65e1c03b4aa3499c5328201f1"
   }
  }
 },
 "nbformat": 4,
 "nbformat_minor": 2
}
