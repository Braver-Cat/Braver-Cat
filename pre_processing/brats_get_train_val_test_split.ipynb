{
 "cells": [
  {
   "cell_type": "code",
   "execution_count": 18,
   "metadata": {},
   "outputs": [],
   "source": [
    "import random"
   ]
  },
  {
   "cell_type": "code",
   "execution_count": 19,
   "metadata": {},
   "outputs": [],
   "source": [
    "DATASET_LIST_PATH = \"../data/brats_2013_obs_path_list.txt\""
   ]
  },
  {
   "cell_type": "code",
   "execution_count": 20,
   "metadata": {},
   "outputs": [],
   "source": [
    "files = []\n",
    "\n",
    "with open(DATASET_LIST_PATH) as file:\n",
    "  for line in file:\n",
    "    files.append(line.rstrip())"
   ]
  },
  {
   "cell_type": "code",
   "execution_count": 21,
   "metadata": {},
   "outputs": [],
   "source": [
    "random.shuffle(files)"
   ]
  },
  {
   "cell_type": "code",
   "execution_count": 24,
   "metadata": {},
   "outputs": [],
   "source": [
    "TRAIN_PERCENTAGE = 0.7\n",
    "VAL_PERCENTAGE = 0.2\n",
    "\n",
    "dataset_size = len(files)\n",
    "train_size = int(dataset_size * TRAIN_PERCENTAGE)\n",
    "val_size = int(dataset_size * VAL_PERCENTAGE)\n",
    "test_size = dataset_size - train_size - val_size"
   ]
  },
  {
   "cell_type": "code",
   "execution_count": 25,
   "metadata": {},
   "outputs": [],
   "source": [
    "train_files = files[:train_size]\n",
    "val_files = files[train_size:train_size + val_size]\n",
    "test_files = files[train_size + val_size:]"
   ]
  },
  {
   "cell_type": "code",
   "execution_count": 28,
   "metadata": {},
   "outputs": [],
   "source": [
    "DATASET_TRAIN_LIST_PATH = DATASET_LIST_PATH.replace(\".txt\", \"_train.txt\")\n",
    "\n",
    "with open(DATASET_TRAIN_LIST_PATH, 'w') as f:\n",
    "  for brats_ob_path in train_files:\n",
    "    f.write(f\"{brats_ob_path}\\n\")"
   ]
  },
  {
   "cell_type": "code",
   "execution_count": 29,
   "metadata": {},
   "outputs": [],
   "source": [
    "DATASET_VAL_LIST_PATH = DATASET_LIST_PATH.replace(\".txt\", \"_val.txt\")\n",
    "\n",
    "with open(DATASET_VAL_LIST_PATH, 'w') as f:\n",
    "  for brats_ob_path in val_files:\n",
    "    f.write(f\"{brats_ob_path}\\n\")"
   ]
  },
  {
   "cell_type": "code",
   "execution_count": 30,
   "metadata": {},
   "outputs": [],
   "source": [
    "DATASET_TEST_LIST_PATH = DATASET_LIST_PATH.replace(\".txt\", \"_test.txt\")\n",
    "\n",
    "with open(DATASET_TEST_LIST_PATH, 'w') as f:\n",
    "  for brats_ob_path in test_files:\n",
    "    f.write(f\"{brats_ob_path}\\n\")"
   ]
  }
 ],
 "metadata": {
  "kernelspec": {
   "display_name": "Python 3",
   "language": "python",
   "name": "python3"
  },
  "language_info": {
   "codemirror_mode": {
    "name": "ipython",
    "version": 3
   },
   "file_extension": ".py",
   "mimetype": "text/x-python",
   "name": "python",
   "nbconvert_exporter": "python",
   "pygments_lexer": "ipython3",
   "version": "3.10.4"
  },
  "orig_nbformat": 4,
  "vscode": {
   "interpreter": {
    "hash": "916dbcbb3f70747c44a77c7bcd40155683ae19c65e1c03b4aa3499c5328201f1"
   }
  }
 },
 "nbformat": 4,
 "nbformat_minor": 2
}
