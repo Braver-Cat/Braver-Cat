{
 "cells": [
  {
   "cell_type": "code",
   "execution_count": 1,
   "metadata": {},
   "outputs": [],
   "source": [
    "import torch\n",
    "from torch.utils.data.dataloader import DataLoader\n",
    "\n",
    "import sys\n",
    "\n",
    "# Setting path so as we can find files in ../src folder\n",
    "sys.path.append('../src')\n",
    "\n",
    "from BRATS2013Dataset import BRATS2013Dataset\n",
    "\n",
    "from tqdm.autonotebook import tqdm\n",
    "\n",
    "import numpy as np\n",
    "\n",
    "import json\n",
    "\n",
    "import skimage\n",
    "\n",
    "from pprint import pprint\n",
    "\n",
    "from matplotlib import pyplot as plt\n",
    "\n",
    "import modin.pandas as pd\n",
    "\n",
    "import os\n",
    "os.environ[\"MODIN_ENGINE\"] = \"ray\"  # Modin will use Dask\n",
    "\n",
    "from modin.config import ProgressBar\n",
    "ProgressBar.enable()\n",
    "\n",
    "from datetime import datetime\n",
    "import warnings\n",
    "warnings.filterwarnings('ignore')\n",
    "\n",
    "import pytz"
   ]
  },
  {
   "cell_type": "code",
   "execution_count": 2,
   "metadata": {},
   "outputs": [],
   "source": [
    "DATASET_NAME = \"brats_2013\"\n",
    "PATCH_SIZE = 65\n",
    "DATASET_SPLIT = \"train\"\n",
    "IS_BALANCED = \"balanced\""
   ]
  },
  {
   "cell_type": "code",
   "execution_count": 3,
   "metadata": {},
   "outputs": [],
   "source": [
    "DF_PATH = f\"../data/{DATASET_NAME}_patch_{PATCH_SIZE}_df_{DATASET_SPLIT}.json\""
   ]
  },
  {
   "cell_type": "code",
   "execution_count": 4,
   "metadata": {},
   "outputs": [
    {
     "name": "stderr",
     "output_type": "stream",
     "text": [
      "2023-01-02 17:24:08,578\tINFO worker.py:1538 -- Started a local Ray instance.\n"
     ]
    },
    {
     "data": {
      "application/vnd.jupyter.widget-view+json": {
       "model_id": "2098a681cc5e41988dc71584db13f215",
       "version_major": 2,
       "version_minor": 0
      },
      "text/plain": [
       "Distributing Dataframe:   0%           Elapsed time: 00:00, estimated remaining time: ?"
      ]
     },
     "metadata": {},
     "output_type": "display_data"
    }
   ],
   "source": [
    "df = pd.read_json(DF_PATH)"
   ]
  },
  {
   "cell_type": "code",
   "execution_count": 5,
   "metadata": {},
   "outputs": [],
   "source": [
    "DATASET_SIZE = 50000\n",
    "\n",
    "TRAIN_PERCENTAGE = 0.7\n",
    "VAL_PERCENTAGE = 0.2\n",
    "\n",
    "DATASET_SIZE_TRAIN = int(DATASET_SIZE * TRAIN_PERCENTAGE)\n",
    "DATASET_SIZE_VAL = int(DATASET_SIZE * VAL_PERCENTAGE)\n",
    "DATASET_SIZE_TEST = DATASET_SIZE - DATASET_SIZE_TRAIN - DATASET_SIZE_VAL"
   ]
  },
  {
   "cell_type": "code",
   "execution_count": 6,
   "metadata": {},
   "outputs": [
    {
     "data": {
      "text/plain": [
       "(35000, 10000, 5000)"
      ]
     },
     "execution_count": 6,
     "metadata": {},
     "output_type": "execute_result"
    }
   ],
   "source": [
    "DATASET_SIZE_TRAIN, DATASET_SIZE_VAL, DATASET_SIZE_TEST"
   ]
  },
  {
   "cell_type": "code",
   "execution_count": 7,
   "metadata": {},
   "outputs": [],
   "source": [
    "NUM_LABELS = 6"
   ]
  },
  {
   "cell_type": "code",
   "execution_count": 8,
   "metadata": {},
   "outputs": [],
   "source": [
    "DATASET_SIZE_TRAIN_PER_LABEL = DATASET_SIZE_TRAIN // NUM_LABELS\n",
    "DATASET_SIZE_VAL_PER_LABEL = DATASET_SIZE_VAL // NUM_LABELS\n",
    "DATASET_SIZE_TEST_PER_LABEL = DATASET_SIZE_TEST // NUM_LABELS"
   ]
  },
  {
   "cell_type": "code",
   "execution_count": 9,
   "metadata": {},
   "outputs": [
    {
     "data": {
      "text/plain": [
       "(5833, 1666, 833)"
      ]
     },
     "execution_count": 9,
     "metadata": {},
     "output_type": "execute_result"
    }
   ],
   "source": [
    "DATASET_SIZE_TRAIN_PER_LABEL, DATASET_SIZE_VAL_PER_LABEL, DATASET_SIZE_TEST_PER_LABEL"
   ]
  },
  {
   "cell_type": "code",
   "execution_count": 10,
   "metadata": {},
   "outputs": [],
   "source": [
    "dataset_size_split_per_label = {\n",
    "  \"train\": DATASET_SIZE_TRAIN_PER_LABEL,\n",
    "  \"val\": DATASET_SIZE_VAL_PER_LABEL,\n",
    "  \"test\": DATASET_SIZE_TEST_PER_LABEL,\n",
    "}"
   ]
  },
  {
   "cell_type": "code",
   "execution_count": 11,
   "metadata": {},
   "outputs": [],
   "source": [
    "labels = range(NUM_LABELS)\n",
    "\n",
    "subsampling_indexes_dict = {}"
   ]
  },
  {
   "cell_type": "code",
   "execution_count": 12,
   "metadata": {},
   "outputs": [
    {
     "data": {
      "application/vnd.jupyter.widget-view+json": {
       "model_id": "527a81b8fbe74856a1fea0a87b887cb8",
       "version_major": 2,
       "version_minor": 0
      },
      "text/plain": [
       "  0%|          | 0/6 [00:00<?, ?it/s]"
      ]
     },
     "metadata": {},
     "output_type": "display_data"
    },
    {
     "name": "stdout",
     "output_type": "stream",
     "text": [
      "\n",
      "\n",
      "\n"
     ]
    },
    {
     "data": {
      "application/vnd.jupyter.widget-view+json": {
       "model_id": "091c6e927d2540739dd3e7eacd1bdd6d",
       "version_major": 2,
       "version_minor": 0
      },
      "text/plain": [
       "Estimated completion of line 17:   0%           Elapsed time: 00:00, estimated remaining time: ?"
      ]
     },
     "metadata": {},
     "output_type": "display_data"
    },
    {
     "name": "stderr",
     "output_type": "stream",
     "text": [
      "\u001b[2m\u001b[33m(raylet)\u001b[0m Error processing line 1 of /home/dansolombrino/.local/lib/python3.10/site-packages/modin-autoimport-pandas.pth:\n",
      "\u001b[2m\u001b[33m(raylet)\u001b[0m \n",
      "\u001b[2m\u001b[33m(raylet)\u001b[0m   Traceback (most recent call last):\n",
      "\u001b[2m\u001b[33m(raylet)\u001b[0m     File \"/usr/lib/python3.10/site.py\", line 192, in addpackage\n",
      "\u001b[2m\u001b[33m(raylet)\u001b[0m       exec(line)\n",
      "\u001b[2m\u001b[33m(raylet)\u001b[0m     File \"<string>\", line 1, in <module>\n",
      "\u001b[2m\u001b[33m(raylet)\u001b[0m     File \"/home/dansolombrino/.local/lib/python3.10/site-packages/pandas/__init__.py\", line 16, in <module>\n",
      "\u001b[2m\u001b[33m(raylet)\u001b[0m       raise ImportError(\n",
      "\u001b[2m\u001b[33m(raylet)\u001b[0m   ImportError: Unable to import required dependencies:\n",
      "\u001b[2m\u001b[33m(raylet)\u001b[0m   pytz: No module named 'pytz'\n",
      "\u001b[2m\u001b[33m(raylet)\u001b[0m \n",
      "\u001b[2m\u001b[33m(raylet)\u001b[0m Remainder of file ignored\n",
      "\u001b[2m\u001b[33m(raylet)\u001b[0m Error processing line 1 of /home/dansolombrino/.local/lib/python3.10/site-packages/modin-autoimport-pandas.pth:\n",
      "\u001b[2m\u001b[33m(raylet)\u001b[0m \n",
      "\u001b[2m\u001b[33m(raylet)\u001b[0m   Traceback (most recent call last):\n",
      "\u001b[2m\u001b[33m(raylet)\u001b[0m     File \"/usr/lib/python3.10/site.py\", line 192, in addpackage\n",
      "\u001b[2m\u001b[33m(raylet)\u001b[0m       exec(line)\n",
      "\u001b[2m\u001b[33m(raylet)\u001b[0m     File \"<string>\", line 1, in <module>\n",
      "\u001b[2m\u001b[33m(raylet)\u001b[0m     File \"/home/dansolombrino/.local/lib/python3.10/site-packages/pandas/__init__.py\", line 16, in <module>\n",
      "\u001b[2m\u001b[33m(raylet)\u001b[0m       raise ImportError(\n",
      "\u001b[2m\u001b[33m(raylet)\u001b[0m   ImportError: Unable to import required dependencies:\n",
      "\u001b[2m\u001b[33m(raylet)\u001b[0m   pytz: No module named 'pytz'\n",
      "\u001b[2m\u001b[33m(raylet)\u001b[0m \n",
      "\u001b[2m\u001b[33m(raylet)\u001b[0m Remainder of file ignored\n",
      "\u001b[2m\u001b[33m(raylet)\u001b[0m Error processing line 1 of /home/dansolombrino/.local/lib/python3.10/site-packages/modin-autoimport-pandas.pth:\n",
      "\u001b[2m\u001b[33m(raylet)\u001b[0m \n",
      "\u001b[2m\u001b[33m(raylet)\u001b[0m   Traceback (most recent call last):\n",
      "\u001b[2m\u001b[33m(raylet)\u001b[0m     File \"/usr/lib/python3.10/site.py\", line 192, in addpackage\n",
      "\u001b[2m\u001b[33m(raylet)\u001b[0m       exec(line)\n",
      "\u001b[2m\u001b[33m(raylet)\u001b[0m     File \"<string>\", line 1, in <module>\n",
      "\u001b[2m\u001b[33m(raylet)\u001b[0m     File \"/home/dansolombrino/.local/lib/python3.10/site-packages/pandas/__init__.py\", line 16, in <module>\n",
      "\u001b[2m\u001b[33m(raylet)\u001b[0m       raise ImportError(\n",
      "\u001b[2m\u001b[33m(raylet)\u001b[0m   ImportError: Unable to import required dependencies:\n",
      "\u001b[2m\u001b[33m(raylet)\u001b[0m   pytz: No module named 'pytz'\n",
      "\u001b[2m\u001b[33m(raylet)\u001b[0m \n",
      "\u001b[2m\u001b[33m(raylet)\u001b[0m Remainder of file ignored\n",
      "\u001b[2m\u001b[33m(raylet)\u001b[0m Error processing line 1 of /home/dansolombrino/.local/lib/python3.10/site-packages/modin-autoimport-pandas.pth:\n",
      "\u001b[2m\u001b[33m(raylet)\u001b[0m \n",
      "\u001b[2m\u001b[33m(raylet)\u001b[0m   Traceback (most recent call last):\n",
      "\u001b[2m\u001b[33m(raylet)\u001b[0m     File \"/usr/lib/python3.10/site.py\", line 192, in addpackage\n",
      "\u001b[2m\u001b[33m(raylet)\u001b[0m       exec(line)\n",
      "\u001b[2m\u001b[33m(raylet)\u001b[0m     File \"<string>\", line 1, in <module>\n",
      "\u001b[2m\u001b[33m(raylet)\u001b[0m     File \"/home/dansolombrino/.local/lib/python3.10/site-packages/pandas/__init__.py\", line 16, in <module>\n",
      "\u001b[2m\u001b[33m(raylet)\u001b[0m       raise ImportError(\n",
      "\u001b[2m\u001b[33m(raylet)\u001b[0m   ImportError: Unable to import required dependencies:\n",
      "\u001b[2m\u001b[33m(raylet)\u001b[0m   pytz: No module named 'pytz'\n",
      "\u001b[2m\u001b[33m(raylet)\u001b[0m \n",
      "\u001b[2m\u001b[33m(raylet)\u001b[0m Remainder of file ignored\n",
      "\u001b[2m\u001b[33m(raylet)\u001b[0m Error processing line 1 of /home/dansolombrino/.local/lib/python3.10/site-packages/modin-autoimport-pandas.pth:\n",
      "\u001b[2m\u001b[33m(raylet)\u001b[0m \n",
      "\u001b[2m\u001b[33m(raylet)\u001b[0m   Traceback (most recent call last):\n",
      "\u001b[2m\u001b[33m(raylet)\u001b[0m     File \"/usr/lib/python3.10/site.py\", line 192, in addpackage\n",
      "\u001b[2m\u001b[33m(raylet)\u001b[0m       exec(line)\n",
      "\u001b[2m\u001b[33m(raylet)\u001b[0m     File \"<string>\", line 1, in <module>\n",
      "\u001b[2m\u001b[33m(raylet)\u001b[0m     File \"/home/dansolombrino/.local/lib/python3.10/site-packages/pandas/__init__.py\", line 16, in <module>\n",
      "\u001b[2m\u001b[33m(raylet)\u001b[0m       raise ImportError(\n",
      "\u001b[2m\u001b[33m(raylet)\u001b[0m   ImportError: Unable to import required dependencies:\n",
      "\u001b[2m\u001b[33m(raylet)\u001b[0m   pytz: No module named 'pytz'\n",
      "\u001b[2m\u001b[33m(raylet)\u001b[0m \n",
      "\u001b[2m\u001b[33m(raylet)\u001b[0m Remainder of file ignored\n",
      "\u001b[2m\u001b[33m(raylet)\u001b[0m Error processing line 1 of /home/dansolombrino/.local/lib/python3.10/site-packages/modin-autoimport-pandas.pth:\n",
      "\u001b[2m\u001b[33m(raylet)\u001b[0m \n",
      "\u001b[2m\u001b[33m(raylet)\u001b[0m   Traceback (most recent call last):\n",
      "\u001b[2m\u001b[33m(raylet)\u001b[0m     File \"/usr/lib/python3.10/site.py\", line 192, in addpackage\n",
      "\u001b[2m\u001b[33m(raylet)\u001b[0m       exec(line)\n",
      "\u001b[2m\u001b[33m(raylet)\u001b[0m     File \"<string>\", line 1, in <module>\n",
      "\u001b[2m\u001b[33m(raylet)\u001b[0m     File \"/home/dansolombrino/.local/lib/python3.10/site-packages/pandas/__init__.py\", line 16, in <module>\n",
      "\u001b[2m\u001b[33m(raylet)\u001b[0m       raise ImportError(\n",
      "\u001b[2m\u001b[33m(raylet)\u001b[0m   ImportError: Unable to import required dependencies:\n",
      "\u001b[2m\u001b[33m(raylet)\u001b[0m   pytz: No module named 'pytz'\n",
      "\u001b[2m\u001b[33m(raylet)\u001b[0m \n",
      "\u001b[2m\u001b[33m(raylet)\u001b[0m Remainder of file ignored\n",
      "\u001b[2m\u001b[33m(raylet)\u001b[0m Error processing line 1 of /home/dansolombrino/.local/lib/python3.10/site-packages/modin-autoimport-pandas.pth:\n",
      "\u001b[2m\u001b[33m(raylet)\u001b[0m \n",
      "\u001b[2m\u001b[33m(raylet)\u001b[0m   Traceback (most recent call last):\n",
      "\u001b[2m\u001b[33m(raylet)\u001b[0m     File \"/usr/lib/python3.10/site.py\", line 192, in addpackage\n",
      "\u001b[2m\u001b[33m(raylet)\u001b[0m       exec(line)\n",
      "\u001b[2m\u001b[33m(raylet)\u001b[0m     File \"<string>\", line 1, in <module>\n",
      "\u001b[2m\u001b[33m(raylet)\u001b[0m     File \"/home/dansolombrino/.local/lib/python3.10/site-packages/pandas/__init__.py\", line 16, in <module>\n",
      "\u001b[2m\u001b[33m(raylet)\u001b[0m       raise ImportError(\n",
      "\u001b[2m\u001b[33m(raylet)\u001b[0m   ImportError: Unable to import required dependencies:\n",
      "\u001b[2m\u001b[33m(raylet)\u001b[0m   pytz: No module named 'pytz'\n",
      "\u001b[2m\u001b[33m(raylet)\u001b[0m \n",
      "\u001b[2m\u001b[33m(raylet)\u001b[0m Remainder of file ignored\n",
      "\u001b[2m\u001b[33m(raylet)\u001b[0m Error processing line 1 of /home/dansolombrino/.local/lib/python3.10/site-packages/modin-autoimport-pandas.pth:\n",
      "\u001b[2m\u001b[33m(raylet)\u001b[0m \n",
      "\u001b[2m\u001b[33m(raylet)\u001b[0m   Traceback (most recent call last):\n",
      "\u001b[2m\u001b[33m(raylet)\u001b[0m     File \"/usr/lib/python3.10/site.py\", line 192, in addpackage\n",
      "\u001b[2m\u001b[33m(raylet)\u001b[0m       exec(line)\n",
      "\u001b[2m\u001b[33m(raylet)\u001b[0m     File \"<string>\", line 1, in <module>\n",
      "\u001b[2m\u001b[33m(raylet)\u001b[0m     File \"/home/dansolombrino/.local/lib/python3.10/site-packages/pandas/__init__.py\", line 16, in <module>\n",
      "\u001b[2m\u001b[33m(raylet)\u001b[0m       raise ImportError(\n",
      "\u001b[2m\u001b[33m(raylet)\u001b[0m   ImportError: Unable to import required dependencies:\n",
      "\u001b[2m\u001b[33m(raylet)\u001b[0m   pytz: No module named 'pytz'\n",
      "\u001b[2m\u001b[33m(raylet)\u001b[0m \n",
      "\u001b[2m\u001b[33m(raylet)\u001b[0m Remainder of file ignored\n",
      "\u001b[2m\u001b[33m(raylet)\u001b[0m Error processing line 1 of /home/dansolombrino/.local/lib/python3.10/site-packages/modin-autoimport-pandas.pth:\n",
      "\u001b[2m\u001b[33m(raylet)\u001b[0m \n",
      "\u001b[2m\u001b[33m(raylet)\u001b[0m   Traceback (most recent call last):\n",
      "\u001b[2m\u001b[33m(raylet)\u001b[0m     File \"/usr/lib/python3.10/site.py\", line 192, in addpackage\n",
      "\u001b[2m\u001b[33m(raylet)\u001b[0m       exec(line)\n",
      "\u001b[2m\u001b[33m(raylet)\u001b[0m     File \"<string>\", line 1, in <module>\n",
      "\u001b[2m\u001b[33m(raylet)\u001b[0m     File \"/home/dansolombrino/.local/lib/python3.10/site-packages/pandas/__init__.py\", line 16, in <module>\n",
      "\u001b[2m\u001b[33m(raylet)\u001b[0m       raise ImportError(\n",
      "\u001b[2m\u001b[33m(raylet)\u001b[0m   ImportError: Unable to import required dependencies:\n",
      "\u001b[2m\u001b[33m(raylet)\u001b[0m   pytz: No module named 'pytz'\n",
      "\u001b[2m\u001b[33m(raylet)\u001b[0m \n",
      "\u001b[2m\u001b[33m(raylet)\u001b[0m Remainder of file ignored\n",
      "\u001b[2m\u001b[33m(raylet)\u001b[0m Error processing line 1 of /home/dansolombrino/.local/lib/python3.10/site-packages/modin-autoimport-pandas.pth:\n",
      "\u001b[2m\u001b[33m(raylet)\u001b[0m \n",
      "\u001b[2m\u001b[33m(raylet)\u001b[0m   Traceback (most recent call last):\n",
      "\u001b[2m\u001b[33m(raylet)\u001b[0m     File \"/usr/lib/python3.10/site.py\", line 192, in addpackage\n",
      "\u001b[2m\u001b[33m(raylet)\u001b[0m       exec(line)\n",
      "\u001b[2m\u001b[33m(raylet)\u001b[0m     File \"<string>\", line 1, in <module>\n",
      "\u001b[2m\u001b[33m(raylet)\u001b[0m     File \"/home/dansolombrino/.local/lib/python3.10/site-packages/pandas/__init__.py\", line 16, in <module>\n",
      "\u001b[2m\u001b[33m(raylet)\u001b[0m       raise ImportError(\n",
      "\u001b[2m\u001b[33m(raylet)\u001b[0m   ImportError: Unable to import required dependencies:\n",
      "\u001b[2m\u001b[33m(raylet)\u001b[0m   pytz: No module named 'pytz'\n",
      "\u001b[2m\u001b[33m(raylet)\u001b[0m \n",
      "\u001b[2m\u001b[33m(raylet)\u001b[0m Remainder of file ignored\n",
      "\u001b[2m\u001b[33m(raylet)\u001b[0m Error processing line 1 of /home/dansolombrino/.local/lib/python3.10/site-packages/modin-autoimport-pandas.pth:\n",
      "\u001b[2m\u001b[33m(raylet)\u001b[0m \n",
      "\u001b[2m\u001b[33m(raylet)\u001b[0m   Traceback (most recent call last):\n",
      "\u001b[2m\u001b[33m(raylet)\u001b[0m     File \"/usr/lib/python3.10/site.py\", line 192, in addpackage\n",
      "\u001b[2m\u001b[33m(raylet)\u001b[0m       exec(line)\n",
      "\u001b[2m\u001b[33m(raylet)\u001b[0m     File \"<string>\", line 1, in <module>\n",
      "\u001b[2m\u001b[33m(raylet)\u001b[0m     File \"/home/dansolombrino/.local/lib/python3.10/site-packages/pandas/__init__.py\", line 16, in <module>\n",
      "\u001b[2m\u001b[33m(raylet)\u001b[0m       raise ImportError(\n",
      "\u001b[2m\u001b[33m(raylet)\u001b[0m   ImportError: Unable to import required dependencies:\n",
      "\u001b[2m\u001b[33m(raylet)\u001b[0m   pytz: No module named 'pytz'\n",
      "\u001b[2m\u001b[33m(raylet)\u001b[0m \n",
      "\u001b[2m\u001b[33m(raylet)\u001b[0m Remainder of file ignored\n",
      "\u001b[2m\u001b[33m(raylet)\u001b[0m Error processing line 1 of /home/dansolombrino/.local/lib/python3.10/site-packages/modin-autoimport-pandas.pth:\n",
      "\u001b[2m\u001b[33m(raylet)\u001b[0m \n",
      "\u001b[2m\u001b[33m(raylet)\u001b[0m   Traceback (most recent call last):\n",
      "\u001b[2m\u001b[33m(raylet)\u001b[0m     File \"/usr/lib/python3.10/site.py\", line 192, in addpackage\n",
      "\u001b[2m\u001b[33m(raylet)\u001b[0m       exec(line)\n",
      "\u001b[2m\u001b[33m(raylet)\u001b[0m     File \"<string>\", line 1, in <module>\n",
      "\u001b[2m\u001b[33m(raylet)\u001b[0m     File \"/home/dansolombrino/.local/lib/python3.10/site-packages/pandas/__init__.py\", line 16, in <module>\n",
      "\u001b[2m\u001b[33m(raylet)\u001b[0m       raise ImportError(\n",
      "\u001b[2m\u001b[33m(raylet)\u001b[0m   ImportError: Unable to import required dependencies:\n",
      "\u001b[2m\u001b[33m(raylet)\u001b[0m   pytz: No module named 'pytz'\n",
      "\u001b[2m\u001b[33m(raylet)\u001b[0m \n",
      "\u001b[2m\u001b[33m(raylet)\u001b[0m Remainder of file ignored\n",
      "\u001b[2m\u001b[33m(raylet)\u001b[0m Error processing line 1 of /home/dansolombrino/.local/lib/python3.10/site-packages/modin-autoimport-pandas.pth:\n",
      "\u001b[2m\u001b[33m(raylet)\u001b[0m \n",
      "\u001b[2m\u001b[33m(raylet)\u001b[0m   Traceback (most recent call last):\n",
      "\u001b[2m\u001b[33m(raylet)\u001b[0m     File \"/usr/lib/python3.10/site.py\", line 192, in addpackage\n",
      "\u001b[2m\u001b[33m(raylet)\u001b[0m       exec(line)\n",
      "\u001b[2m\u001b[33m(raylet)\u001b[0m     File \"<string>\", line 1, in <module>\n",
      "\u001b[2m\u001b[33m(raylet)\u001b[0m     File \"/home/dansolombrino/.local/lib/python3.10/site-packages/pandas/__init__.py\", line 16, in <module>\n",
      "\u001b[2m\u001b[33m(raylet)\u001b[0m       raise ImportError(\n",
      "\u001b[2m\u001b[33m(raylet)\u001b[0m   ImportError: Unable to import required dependencies:\n",
      "\u001b[2m\u001b[33m(raylet)\u001b[0m   pytz: No module named 'pytz'\n",
      "\u001b[2m\u001b[33m(raylet)\u001b[0m \n",
      "\u001b[2m\u001b[33m(raylet)\u001b[0m Remainder of file ignored\n",
      "\u001b[2m\u001b[33m(raylet)\u001b[0m Error processing line 1 of /home/dansolombrino/.local/lib/python3.10/site-packages/modin-autoimport-pandas.pth:\n",
      "\u001b[2m\u001b[33m(raylet)\u001b[0m \n",
      "\u001b[2m\u001b[33m(raylet)\u001b[0m   Traceback (most recent call last):\n",
      "\u001b[2m\u001b[33m(raylet)\u001b[0m     File \"/usr/lib/python3.10/site.py\", line 192, in addpackage\n",
      "\u001b[2m\u001b[33m(raylet)\u001b[0m       exec(line)\n",
      "\u001b[2m\u001b[33m(raylet)\u001b[0m     File \"<string>\", line 1, in <module>\n",
      "\u001b[2m\u001b[33m(raylet)\u001b[0m     File \"/home/dansolombrino/.local/lib/python3.10/site-packages/pandas/__init__.py\", line 16, in <module>\n",
      "\u001b[2m\u001b[33m(raylet)\u001b[0m       raise ImportError(\n",
      "\u001b[2m\u001b[33m(raylet)\u001b[0m   ImportError: Unable to import required dependencies:\n",
      "\u001b[2m\u001b[33m(raylet)\u001b[0m   pytz: No module named 'pytz'\n",
      "\u001b[2m\u001b[33m(raylet)\u001b[0m \n",
      "\u001b[2m\u001b[33m(raylet)\u001b[0m Remainder of file ignored\n",
      "\u001b[2m\u001b[33m(raylet)\u001b[0m Error processing line 1 of /home/dansolombrino/.local/lib/python3.10/site-packages/modin-autoimport-pandas.pth:\n",
      "\u001b[2m\u001b[33m(raylet)\u001b[0m \n",
      "\u001b[2m\u001b[33m(raylet)\u001b[0m   Traceback (most recent call last):\n",
      "\u001b[2m\u001b[33m(raylet)\u001b[0m     File \"/usr/lib/python3.10/site.py\", line 192, in addpackage\n",
      "\u001b[2m\u001b[33m(raylet)\u001b[0m       exec(line)\n",
      "\u001b[2m\u001b[33m(raylet)\u001b[0m     File \"<string>\", line 1, in <module>\n",
      "\u001b[2m\u001b[33m(raylet)\u001b[0m     File \"/home/dansolombrino/.local/lib/python3.10/site-packages/pandas/__init__.py\", line 16, in <module>\n",
      "\u001b[2m\u001b[33m(raylet)\u001b[0m       raise ImportError(\n",
      "\u001b[2m\u001b[33m(raylet)\u001b[0m   ImportError: Unable to import required dependencies:\n",
      "\u001b[2m\u001b[33m(raylet)\u001b[0m   pytz: No module named 'pytz'\n",
      "\u001b[2m\u001b[33m(raylet)\u001b[0m \n",
      "\u001b[2m\u001b[33m(raylet)\u001b[0m Remainder of file ignored\n",
      "\u001b[2m\u001b[33m(raylet)\u001b[0m Error processing line 1 of /home/dansolombrino/.local/lib/python3.10/site-packages/modin-autoimport-pandas.pth:\n",
      "\u001b[2m\u001b[33m(raylet)\u001b[0m \n",
      "\u001b[2m\u001b[33m(raylet)\u001b[0m   Traceback (most recent call last):\n",
      "\u001b[2m\u001b[33m(raylet)\u001b[0m     File \"/usr/lib/python3.10/site.py\", line 192, in addpackage\n",
      "\u001b[2m\u001b[33m(raylet)\u001b[0m       exec(line)\n",
      "\u001b[2m\u001b[33m(raylet)\u001b[0m     File \"<string>\", line 1, in <module>\n",
      "\u001b[2m\u001b[33m(raylet)\u001b[0m     File \"/home/dansolombrino/.local/lib/python3.10/site-packages/pandas/__init__.py\", line 16, in <module>\n",
      "\u001b[2m\u001b[33m(raylet)\u001b[0m       raise ImportError(\n",
      "\u001b[2m\u001b[33m(raylet)\u001b[0m   ImportError: Unable to import required dependencies:\n",
      "\u001b[2m\u001b[33m(raylet)\u001b[0m   pytz: No module named 'pytz'\n",
      "\u001b[2m\u001b[33m(raylet)\u001b[0m \n",
      "\u001b[2m\u001b[33m(raylet)\u001b[0m Remainder of file ignored\n"
     ]
    },
    {
     "name": "stdout",
     "output_type": "stream",
     "text": [
      "\n",
      "\n",
      "\n",
      "\n",
      "\n",
      "\n",
      "\n",
      "\n",
      "\n",
      "\n",
      "\n",
      "\n",
      "\n",
      "\n",
      "\n"
     ]
    }
   ],
   "source": [
    "for label in tqdm(labels):\n",
    "  \n",
    "  print(\"\\n\\n\")\n",
    "\n",
    "  df_filtered = df[df['label'] == label] \n",
    "\n",
    "  # print(f\"Labels in the filtered df: {df_filtered['label'].unique()}\")\n",
    "\n",
    "  subsampling_indexes = np.random.choice(\n",
    "    df_filtered.index, \n",
    "    size=dataset_size_split_per_label[DATASET_SPLIT], replace=False\n",
    "  ) \n",
    "\n",
    "  subsampling_indexes_dict[str(label)] = subsampling_indexes"
   ]
  },
  {
   "cell_type": "code",
   "execution_count": 13,
   "metadata": {},
   "outputs": [],
   "source": [
    "# subsampling_indexes_dict"
   ]
  },
  {
   "cell_type": "code",
   "execution_count": 14,
   "metadata": {},
   "outputs": [],
   "source": [
    "subsampling_indexes_all_labels = np.asarray(list(subsampling_indexes_dict.values()))"
   ]
  },
  {
   "cell_type": "code",
   "execution_count": 15,
   "metadata": {},
   "outputs": [],
   "source": [
    "subsampling_indexes_all_labels = subsampling_indexes_all_labels.reshape(-1)"
   ]
  },
  {
   "cell_type": "code",
   "execution_count": 16,
   "metadata": {},
   "outputs": [
    {
     "data": {
      "text/plain": [
       "True"
      ]
     },
     "execution_count": 16,
     "metadata": {},
     "output_type": "execute_result"
    }
   ],
   "source": [
    "np.unique(subsampling_indexes_all_labels).shape == subsampling_indexes_all_labels.shape"
   ]
  },
  {
   "cell_type": "code",
   "execution_count": 17,
   "metadata": {},
   "outputs": [],
   "source": [
    "df_to_export = df.iloc[subsampling_indexes_all_labels]"
   ]
  },
  {
   "cell_type": "code",
   "execution_count": 18,
   "metadata": {},
   "outputs": [
    {
     "data": {
      "application/vnd.jupyter.widget-view+json": {
       "model_id": "621ee9b8d3b04a0882f32b89952ab747",
       "version_major": 2,
       "version_minor": 0
      },
      "text/plain": [
       "Estimated completion of line 17:   0%           Elapsed time: 00:00, estimated remaining time: ?"
      ]
     },
     "metadata": {},
     "output_type": "display_data"
    }
   ],
   "source": [
    "DATASET_SUBSAMPLE_ID = 0\n",
    "\n",
    "dataset_name = DATASET_NAME.replace(\"_\", \"\").upper()\n",
    "DATASET_SUBSAMPLE_PATH = f\"../data/{dataset_name}_patches_{PATCH_SIZE}_{IS_BALANCED}/{DATASET_SUBSAMPLE_ID}\"\n",
    "\n",
    "if not os.path.exists(DATASET_SUBSAMPLE_PATH):\n",
    "  os.makedirs(DATASET_SUBSAMPLE_PATH)"
   ]
  },
  {
   "cell_type": "code",
   "execution_count": 19,
   "metadata": {},
   "outputs": [
    {
     "data": {
      "application/vnd.jupyter.widget-view+json": {
       "model_id": "fca36259238c4c5eb955979e57c42cee",
       "version_major": 2,
       "version_minor": 0
      },
      "text/plain": [
       "Distributing Dataframe:   0%           Elapsed time: 00:00, estimated remaining time: ?"
      ]
     },
     "metadata": {},
     "output_type": "display_data"
    }
   ],
   "source": [
    "df_to_export.to_json(f\"{DATASET_SUBSAMPLE_PATH}/{DATASET_SPLIT}_df.json\")"
   ]
  }
 ],
 "metadata": {
  "kernelspec": {
   "display_name": "Python (Braver-Cat)",
   "language": "python",
   "name": "braver-cat"
  },
  "language_info": {
   "codemirror_mode": {
    "name": "ipython",
    "version": 3
   },
   "file_extension": ".py",
   "mimetype": "text/x-python",
   "name": "python",
   "nbconvert_exporter": "python",
   "pygments_lexer": "ipython3",
   "version": "3.10.4"
  },
  "orig_nbformat": 4,
  "vscode": {
   "interpreter": {
    "hash": "916dbcbb3f70747c44a77c7bcd40155683ae19c65e1c03b4aa3499c5328201f1"
   }
  }
 },
 "nbformat": 4,
 "nbformat_minor": 2
}
