{
 "cells": [
  {
   "cell_type": "code",
   "execution_count": 1,
   "metadata": {},
   "outputs": [],
   "source": [
    "import torch\n",
    "from torch.utils.data.dataloader import DataLoader\n",
    "\n",
    "import sys\n",
    "\n",
    "# Setting path so as we can find files in ../src folder\n",
    "sys.path.append('../src')\n",
    "\n",
    "from BRATS2013DatasetPatchMetadata import BRATS2013DatasetPatchMetadata\n",
    "\n",
    "from tqdm.autonotebook import tqdm\n",
    "\n",
    "import numpy as np\n",
    "\n",
    "import json\n",
    "\n",
    "import skimage\n",
    "\n",
    "from pprint import pprint\n",
    "\n",
    "from matplotlib import pyplot as plt\n",
    "\n",
    "import modin.pandas as pd\n",
    "\n",
    "import os\n",
    "os.environ[\"MODIN_ENGINE\"] = \"ray\"  # Modin will use Dask\n",
    "\n",
    "\n"
   ]
  },
  {
   "cell_type": "code",
   "execution_count": 2,
   "metadata": {},
   "outputs": [],
   "source": [
    "DATASET_NAME = \"brats_2013\"\n",
    "DATASET_SPLIT = \"train\"\n",
    "DATASET_PATH = f\"../data/{DATASET_NAME}_obs_path_list_unstacked_resized_cleaned_{DATASET_SPLIT}.txt\"\n",
    "\n",
    "obs_list = []\n",
    "\n",
    "with open(DATASET_PATH) as file:\n",
    "  for line in file:\n",
    "    obs_list.append(line.rstrip())"
   ]
  },
  {
   "cell_type": "code",
   "execution_count": 3,
   "metadata": {},
   "outputs": [],
   "source": [
    "PATCH_SIZE = 65"
   ]
  },
  {
   "cell_type": "code",
   "execution_count": 4,
   "metadata": {},
   "outputs": [],
   "source": [
    "dataset = BRATS2013DatasetPatchMetadata(\n",
    "  obs_list=obs_list, stage=DATASET_SPLIT, patch_size=PATCH_SIZE\n",
    ")"
   ]
  },
  {
   "cell_type": "code",
   "execution_count": 5,
   "metadata": {},
   "outputs": [
    {
     "data": {
      "application/vnd.jupyter.widget-view+json": {
       "model_id": "9a64f99d261c4900b10569e338a6c03e",
       "version_major": 2,
       "version_minor": 0
      },
      "text/plain": [
       "0it [00:00, ?it/s]"
      ]
     },
     "metadata": {},
     "output_type": "display_data"
    }
   ],
   "source": [
    "df_list = []\n",
    "\n",
    "for entry in tqdm(dataset):\n",
    "  patch_metadata = entry[\"patch_metadata\"]\n",
    "  img_path = entry[\"full_path\"]\n",
    "\n",
    "  for label in patch_metadata:\n",
    "    for patch_id in patch_metadata[label]:\n",
    "      \n",
    "      df_list.append(\n",
    "        {\n",
    "          \"patch_id\": patch_id,\n",
    "          \"label\": label,\n",
    "          \"img_path\": img_path\n",
    "        }\n",
    "      )\n",
    "\n"
   ]
  },
  {
   "cell_type": "code",
   "execution_count": 6,
   "metadata": {},
   "outputs": [
    {
     "name": "stderr",
     "output_type": "stream",
     "text": [
      "2023-01-02 17:09:16,976\tINFO worker.py:1538 -- Started a local Ray instance.\n"
     ]
    }
   ],
   "source": [
    "df = pd.DataFrame(df_list)"
   ]
  },
  {
   "cell_type": "code",
   "execution_count": 7,
   "metadata": {},
   "outputs": [
    {
     "name": "stderr",
     "output_type": "stream",
     "text": [
      "\u001b[2m\u001b[33m(raylet)\u001b[0m Error processing line 1 of /home/dansolombrino/.local/lib/python3.10/site-packages/modin-autoimport-pandas.pth:\n",
      "\u001b[2m\u001b[33m(raylet)\u001b[0m \n",
      "\u001b[2m\u001b[33m(raylet)\u001b[0m   Traceback (most recent call last):\n",
      "\u001b[2m\u001b[33m(raylet)\u001b[0m     File \"/usr/lib/python3.10/site.py\", line 192, in addpackage\n",
      "\u001b[2m\u001b[33m(raylet)\u001b[0m       exec(line)\n",
      "\u001b[2m\u001b[33m(raylet)\u001b[0m     File \"<string>\", line 1, in <module>\n",
      "\u001b[2m\u001b[33m(raylet)\u001b[0m     File \"/home/dansolombrino/.local/lib/python3.10/site-packages/pandas/__init__.py\", line 16, in <module>\n",
      "\u001b[2m\u001b[33m(raylet)\u001b[0m       raise ImportError(\n",
      "\u001b[2m\u001b[33m(raylet)\u001b[0m   ImportError: Unable to import required dependencies:\n",
      "\u001b[2m\u001b[33m(raylet)\u001b[0m   pytz: No module named 'pytz'\n",
      "\u001b[2m\u001b[33m(raylet)\u001b[0m \n",
      "\u001b[2m\u001b[33m(raylet)\u001b[0m Remainder of file ignored\n",
      "\u001b[2m\u001b[33m(raylet)\u001b[0m Error processing line 1 of /home/dansolombrino/.local/lib/python3.10/site-packages/modin-autoimport-pandas.pth:\n",
      "\u001b[2m\u001b[33m(raylet)\u001b[0m \n",
      "\u001b[2m\u001b[33m(raylet)\u001b[0m   Traceback (most recent call last):\n",
      "\u001b[2m\u001b[33m(raylet)\u001b[0m     File \"/usr/lib/python3.10/site.py\", line 192, in addpackage\n",
      "\u001b[2m\u001b[33m(raylet)\u001b[0m       exec(line)\n",
      "\u001b[2m\u001b[33m(raylet)\u001b[0m     File \"<string>\", line 1, in <module>\n",
      "\u001b[2m\u001b[33m(raylet)\u001b[0m     File \"/home/dansolombrino/.local/lib/python3.10/site-packages/pandas/__init__.py\", line 16, in <module>\n",
      "\u001b[2m\u001b[33m(raylet)\u001b[0m       raise ImportError(\n",
      "\u001b[2m\u001b[33m(raylet)\u001b[0m   ImportError: Unable to import required dependencies:\n",
      "\u001b[2m\u001b[33m(raylet)\u001b[0m   pytz: No module named 'pytz'\n",
      "\u001b[2m\u001b[33m(raylet)\u001b[0m \n",
      "\u001b[2m\u001b[33m(raylet)\u001b[0m Remainder of file ignored\n"
     ]
    },
    {
     "data": {
      "text/html": [
       "<div>\n",
       "<style scoped>\n",
       "    .dataframe tbody tr th:only-of-type {\n",
       "        vertical-align: middle;\n",
       "    }\n",
       "\n",
       "    .dataframe tbody tr th {\n",
       "        vertical-align: top;\n",
       "    }\n",
       "\n",
       "    .dataframe thead th {\n",
       "        text-align: right;\n",
       "    }\n",
       "</style>\n",
       "<table border=\"1\" class=\"dataframe\">\n",
       "  <thead>\n",
       "    <tr style=\"text-align: right;\">\n",
       "      <th></th>\n",
       "      <th>patch_id</th>\n",
       "      <th>label</th>\n",
       "      <th>img_path</th>\n",
       "    </tr>\n",
       "  </thead>\n",
       "  <tbody>\n",
       "    <tr>\n",
       "      <th>0</th>\n",
       "      <td>[56, 46]</td>\n",
       "      <td>0</td>\n",
       "      <td>../data/BRATS2013_unstacked_resized_slices/000...</td>\n",
       "    </tr>\n",
       "    <tr>\n",
       "      <th>1</th>\n",
       "      <td>[56, 47]</td>\n",
       "      <td>0</td>\n",
       "      <td>../data/BRATS2013_unstacked_resized_slices/000...</td>\n",
       "    </tr>\n",
       "    <tr>\n",
       "      <th>2</th>\n",
       "      <td>[56, 48]</td>\n",
       "      <td>0</td>\n",
       "      <td>../data/BRATS2013_unstacked_resized_slices/000...</td>\n",
       "    </tr>\n",
       "    <tr>\n",
       "      <th>3</th>\n",
       "      <td>[56, 49]</td>\n",
       "      <td>0</td>\n",
       "      <td>../data/BRATS2013_unstacked_resized_slices/000...</td>\n",
       "    </tr>\n",
       "    <tr>\n",
       "      <th>4</th>\n",
       "      <td>[56, 50]</td>\n",
       "      <td>0</td>\n",
       "      <td>../data/BRATS2013_unstacked_resized_slices/000...</td>\n",
       "    </tr>\n",
       "    <tr>\n",
       "      <th>...</th>\n",
       "      <td>...</td>\n",
       "      <td>...</td>\n",
       "      <td>...</td>\n",
       "    </tr>\n",
       "    <tr>\n",
       "      <th>42443267</th>\n",
       "      <td>[132, 87]</td>\n",
       "      <td>3</td>\n",
       "      <td>../data/BRATS2013_unstacked_resized_slices/000...</td>\n",
       "    </tr>\n",
       "    <tr>\n",
       "      <th>42443268</th>\n",
       "      <td>[132, 88]</td>\n",
       "      <td>3</td>\n",
       "      <td>../data/BRATS2013_unstacked_resized_slices/000...</td>\n",
       "    </tr>\n",
       "    <tr>\n",
       "      <th>42443269</th>\n",
       "      <td>[132, 89]</td>\n",
       "      <td>3</td>\n",
       "      <td>../data/BRATS2013_unstacked_resized_slices/000...</td>\n",
       "    </tr>\n",
       "    <tr>\n",
       "      <th>42443270</th>\n",
       "      <td>[132, 90]</td>\n",
       "      <td>3</td>\n",
       "      <td>../data/BRATS2013_unstacked_resized_slices/000...</td>\n",
       "    </tr>\n",
       "    <tr>\n",
       "      <th>42443271</th>\n",
       "      <td>[132, 91]</td>\n",
       "      <td>3</td>\n",
       "      <td>../data/BRATS2013_unstacked_resized_slices/000...</td>\n",
       "    </tr>\n",
       "  </tbody>\n",
       "</table>\n",
       "<p>42443272 rows x 3 columns</p>\n",
       "</div>"
      ],
      "text/plain": [
       "           patch_id label                                           img_path\n",
       "0          [56, 46]     0  ../data/BRATS2013_unstacked_resized_slices/000...\n",
       "1          [56, 47]     0  ../data/BRATS2013_unstacked_resized_slices/000...\n",
       "2          [56, 48]     0  ../data/BRATS2013_unstacked_resized_slices/000...\n",
       "3          [56, 49]     0  ../data/BRATS2013_unstacked_resized_slices/000...\n",
       "4          [56, 50]     0  ../data/BRATS2013_unstacked_resized_slices/000...\n",
       "...             ...   ...                                                ...\n",
       "42443267  [132, 87]     3  ../data/BRATS2013_unstacked_resized_slices/000...\n",
       "42443268  [132, 88]     3  ../data/BRATS2013_unstacked_resized_slices/000...\n",
       "42443269  [132, 89]     3  ../data/BRATS2013_unstacked_resized_slices/000...\n",
       "42443270  [132, 90]     3  ../data/BRATS2013_unstacked_resized_slices/000...\n",
       "42443271  [132, 91]     3  ../data/BRATS2013_unstacked_resized_slices/000...\n",
       "\n",
       "[42443272 rows x 3 columns]"
      ]
     },
     "execution_count": 7,
     "metadata": {},
     "output_type": "execute_result"
    }
   ],
   "source": [
    "df"
   ]
  },
  {
   "cell_type": "code",
   "execution_count": 8,
   "metadata": {},
   "outputs": [],
   "source": [
    "PATCH_DATASET_PATH = f\"../data/{DATASET_NAME}_patch_{PATCH_SIZE}_df_{DATASET_SPLIT}.json\""
   ]
  },
  {
   "cell_type": "code",
   "execution_count": 9,
   "metadata": {},
   "outputs": [
    {
     "name": "stderr",
     "output_type": "stream",
     "text": [
      "\u001b[2m\u001b[33m(raylet)\u001b[0m [2023-01-02 17:22:16,755 E 42742 42742] (raylet) node_manager.cc:3097: 2 Workers (tasks / actors) killed due to memory pressure (OOM), 0 Workers crashed due to other reasons at node (ID: 47243dc9d43cd204d2cba968a211d9d30828014ca22a7dd3c6dfc418, IP: 192.168.1.189) over the last time period. To see more information about the Workers killed on this node, use `ray logs raylet.out -ip 192.168.1.189`\n",
      "\u001b[2m\u001b[33m(raylet)\u001b[0m \n",
      "\u001b[2m\u001b[33m(raylet)\u001b[0m Refer to the documentation on how to address the out of memory issue: https://docs.ray.io/en/latest/ray-core/scheduling/ray-oom-prevention.html. Consider provisioning more memory on this node or reducing task parallelism by requesting more CPUs per task. To adjust the kill threshold, set the environment variable `RAY_memory_usage_threshold` when starting Ray. To disable worker killing, set the environment variable `RAY_memory_monitor_refresh_ms` to zero.\n"
     ]
    }
   ],
   "source": [
    "df.to_json(PATCH_DATASET_PATH)"
   ]
  }
 ],
 "metadata": {
  "kernelspec": {
   "display_name": "Python (Braver-Cat)",
   "language": "python",
   "name": "braver-cat"
  },
  "language_info": {
   "codemirror_mode": {
    "name": "ipython",
    "version": 3
   },
   "file_extension": ".py",
   "mimetype": "text/x-python",
   "name": "python",
   "nbconvert_exporter": "python",
   "pygments_lexer": "ipython3",
   "version": "3.10.4"
  },
  "orig_nbformat": 4,
  "vscode": {
   "interpreter": {
    "hash": "916dbcbb3f70747c44a77c7bcd40155683ae19c65e1c03b4aa3499c5328201f1"
   }
  }
 },
 "nbformat": 4,
 "nbformat_minor": 2
}
