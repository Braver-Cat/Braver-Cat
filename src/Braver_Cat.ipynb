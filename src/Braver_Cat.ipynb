{
 "cells": [
  {
   "cell_type": "code",
   "execution_count": 1,
   "metadata": {},
   "outputs": [],
   "source": [
    "import torch\n",
    "from torch.utils.data import Dataset\n",
    "import nibabel as nib"
   ]
  },
  {
   "cell_type": "code",
   "execution_count": 105,
   "metadata": {},
   "outputs": [],
   "source": [
    "class BRaTS_Dataset(Dataset):\n",
    "\n",
    "  def __init__(self, brats_obs_path_list, img_modalities):\n",
    "    self.brats_obs_path_list = brats_obs_path_list\n",
    "    self.img_modalities = img_modalities\n",
    "    self.DATA_FILE_EXTENSION = \"nii.gz\"\n",
    "\n",
    "  def __len__(self):\n",
    "    return len(self.brats_obs_path_list)\n",
    "\n",
    "  def __getitem__(self, idx):\n",
    "\n",
    "    ob_path = self.brats_obs_path_list[idx]\n",
    "    \n",
    "    ob_name = self._get_ob_name(ob_path=ob_path)\n",
    "\n",
    "    ob_modalities_path_list = self._get_ob_modalities_path(\n",
    "      ob_path=ob_path, ob_name=ob_name\n",
    "    )\n",
    "\n",
    "    obs = self._load_ob_modalities(\n",
    "      ob_modalities_path_list=ob_modalities_path_list\n",
    "    )\n",
    "\n",
    "    return f\"LOADED OBSERVATION W/ INDEX {idx}\"\n",
    "\n",
    "  def _get_ob_name(self, ob_path):\n",
    "\n",
    "    ob_name = ob_path.split(\"/\")[-1]\n",
    "\n",
    "    return ob_name\n",
    "\n",
    "  def _get_ob_modalities_path(self, ob_path, ob_name):\n",
    "\n",
    "    ob_modality_base_path = f\"{ob_path}/{ob_name}\"\n",
    "\n",
    "    ob_modalities_path_list = []\n",
    "\n",
    "    for modality in self.img_modalities:\n",
    "      ob_modalities_path_list.append(\n",
    "        f\"{ob_modality_base_path}_{modality}.{self.DATA_FILE_EXTENSION}\"\n",
    "      )\n",
    "\n",
    "    return ob_modalities_path_list\n",
    "\n",
    "  def _load_ob_modalities(self, ob_modalities_path_list):\n",
    "\n",
    "    for ob_path in ob_modalities_path_list:\n",
    "      print(ob_path)\n",
    "\n",
    "      nii_img = nib.load(ob_path)\n",
    "      nii_data = nii_img.get_fdata()\n",
    "\n",
    "      # TODO continue development here\n",
    "\n",
    "      break\n",
    "    \n",
    "    return 0"
   ]
  },
  {
   "cell_type": "code",
   "execution_count": 106,
   "metadata": {},
   "outputs": [],
   "source": [
    "BRATS_OBS_PATH_LIST_PATH = \"../data/brats_obs_path_list.txt\""
   ]
  },
  {
   "cell_type": "code",
   "execution_count": 107,
   "metadata": {},
   "outputs": [],
   "source": [
    "brats_obs_path_list = []\n",
    "\n",
    "with open(BRATS_OBS_PATH_LIST_PATH) as file:\n",
    "  for line in file:\n",
    "    brats_obs_path_list.append(line.rstrip())"
   ]
  },
  {
   "cell_type": "code",
   "execution_count": 108,
   "metadata": {},
   "outputs": [],
   "source": [
    "IMG_MODALITIES = [\"flair\", \"t1\", \"t1ce\", \"t2\"]"
   ]
  },
  {
   "cell_type": "code",
   "execution_count": 109,
   "metadata": {},
   "outputs": [],
   "source": [
    "brats_dataset = BRaTS_Dataset(\n",
    "  brats_obs_path_list=brats_obs_path_list,\n",
    "  img_modalities=IMG_MODALITIES\n",
    ")"
   ]
  },
  {
   "cell_type": "code",
   "execution_count": 110,
   "metadata": {},
   "outputs": [
    {
     "name": "stdout",
     "output_type": "stream",
     "text": [
      "../data/BRaTS_2021_Task_1_Dataset_extracted/BraTS2021_01564/BraTS2021_01564_flair.nii.gz\n",
      "71424000\n"
     ]
    },
    {
     "data": {
      "text/plain": [
       "'LOADED OBSERVATION W/ INDEX 23'"
      ]
     },
     "execution_count": 110,
     "metadata": {},
     "output_type": "execute_result"
    }
   ],
   "source": [
    "brats_dataset[23]"
   ]
  },
  {
   "cell_type": "code",
   "execution_count": null,
   "metadata": {},
   "outputs": [],
   "source": []
  }
 ],
 "metadata": {
  "kernelspec": {
   "display_name": "Python (Braver-Cat)",
   "language": "python",
   "name": "braver-cat"
  },
  "language_info": {
   "codemirror_mode": {
    "name": "ipython",
    "version": 3
   },
   "file_extension": ".py",
   "mimetype": "text/x-python",
   "name": "python",
   "nbconvert_exporter": "python",
   "pygments_lexer": "ipython3",
   "version": "3.10.4"
  },
  "orig_nbformat": 4,
  "vscode": {
   "interpreter": {
    "hash": "916dbcbb3f70747c44a77c7bcd40155683ae19c65e1c03b4aa3499c5328201f1"
   }
  }
 },
 "nbformat": 4,
 "nbformat_minor": 2
}
