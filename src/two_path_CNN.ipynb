{
 "cells": [
  {
   "cell_type": "code",
   "execution_count": 1,
   "metadata": {},
   "outputs": [],
   "source": [
    "from BRATS2013Dataset import BRATS2013Dataset\n",
    "\n",
    "import torch\n",
    "from torch.utils.data.dataloader import DataLoader\n",
    "\n",
    "from tqdm.autonotebook import tqdm"
   ]
  },
  {
   "cell_type": "code",
   "execution_count": 2,
   "metadata": {},
   "outputs": [],
   "source": [
    "BRATS_OBS_PATH_LIST_TRAIN = \"../data/brats_2013_obs_path_list_train.txt\"\n",
    "BRATS_OBS_PATH_LIST_VAL = \"../data/brats_2013_obs_path_list_val.txt\"\n",
    "BRATS_OBS_PATH_LIST_TEST = \"../data/brats_2013_obs_path_list_test.txt\""
   ]
  },
  {
   "cell_type": "code",
   "execution_count": 3,
   "metadata": {},
   "outputs": [],
   "source": [
    "def load_file_list(file_list_path):\n",
    "  file_list = []\n",
    "\n",
    "  with open(file_list_path) as file:\n",
    "    for line in file:\n",
    "      file_list.append(line.rstrip())\n",
    "\n",
    "  return file_list"
   ]
  },
  {
   "cell_type": "code",
   "execution_count": 4,
   "metadata": {},
   "outputs": [],
   "source": [
    "brats_obs_path_list_train = load_file_list(\n",
    "  file_list_path=BRATS_OBS_PATH_LIST_TRAIN\n",
    ")\n",
    "brats_obs_path_list_val = load_file_list(\n",
    "  file_list_path=BRATS_OBS_PATH_LIST_VAL\n",
    ")\n",
    "brats_obs_path_list_test = load_file_list(\n",
    "  file_list_path=BRATS_OBS_PATH_LIST_TEST\n",
    ")"
   ]
  },
  {
   "cell_type": "code",
   "execution_count": 5,
   "metadata": {},
   "outputs": [],
   "source": [
    "brats_2013_dataset_train = BRATS2013Dataset(\n",
    "  obs_list=brats_obs_path_list_train, stage=\"train\"\n",
    ")\n",
    "\n",
    "brats_2013_dataset_val = BRATS2013Dataset(\n",
    "  obs_list=brats_obs_path_list_val, stage=\"val\"\n",
    ")\n",
    "\n",
    "brats_2013_dataset_test = BRATS2013Dataset(\n",
    "  obs_list=brats_obs_path_list_test, stage=\"test\"\n",
    ")"
   ]
  },
  {
   "cell_type": "code",
   "execution_count": 6,
   "metadata": {},
   "outputs": [],
   "source": [
    "BATCH_SIZE = 256\n",
    "NUM_WORKERS = 16"
   ]
  },
  {
   "cell_type": "code",
   "execution_count": 7,
   "metadata": {},
   "outputs": [],
   "source": [
    "brats_2013_dataloader_train = DataLoader(\n",
    "  dataset=brats_2013_dataset_train, batch_size=BATCH_SIZE, \n",
    "  num_workers=NUM_WORKERS\n",
    ")\n",
    "\n",
    "brats_2013_dataloader_val = DataLoader(\n",
    "  dataset=brats_2013_dataset_val, batch_size=BATCH_SIZE, \n",
    "  num_workers=NUM_WORKERS\n",
    ")\n",
    "\n",
    "brats_2013_dataloader_test = DataLoader(\n",
    "  dataset=brats_2013_dataset_test, batch_size=BATCH_SIZE, \n",
    "  num_workers=NUM_WORKERS\n",
    ")"
   ]
  }
 ],
 "metadata": {
  "kernelspec": {
   "display_name": "Python 3",
   "language": "python",
   "name": "python3"
  },
  "language_info": {
   "codemirror_mode": {
    "name": "ipython",
    "version": 3
   },
   "file_extension": ".py",
   "mimetype": "text/x-python",
   "name": "python",
   "nbconvert_exporter": "python",
   "pygments_lexer": "ipython3",
   "version": "3.10.4"
  },
  "orig_nbformat": 4,
  "vscode": {
   "interpreter": {
    "hash": "916dbcbb3f70747c44a77c7bcd40155683ae19c65e1c03b4aa3499c5328201f1"
   }
  }
 },
 "nbformat": 4,
 "nbformat_minor": 2
}
