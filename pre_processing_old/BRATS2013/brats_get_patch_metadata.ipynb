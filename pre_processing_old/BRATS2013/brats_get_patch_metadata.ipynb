{
 "cells": [
  {
   "cell_type": "code",
   "execution_count": 1,
   "metadata": {},
   "outputs": [],
   "source": [
    "import torch\n",
    "\n",
    "import sys\n",
    "\n",
    "# Setting path so as we can find files in ../src folder\n",
    "sys.path.append('../src')\n",
    "\n",
    "from BRATS2013Dataset import BRATS2013Dataset\n",
    "\n",
    "from tqdm.autonotebook import tqdm\n",
    "\n",
    "import numpy as np\n",
    "\n",
    "import json\n",
    "\n",
    "import skimage\n",
    "\n",
    "from pprint import pprint\n",
    "\n",
    "from matplotlib import pyplot as plt"
   ]
  },
  {
   "cell_type": "code",
   "execution_count": 2,
   "metadata": {},
   "outputs": [],
   "source": [
    "PATCH_SIZE = 65"
   ]
  },
  {
   "cell_type": "code",
   "execution_count": 3,
   "metadata": {},
   "outputs": [],
   "source": [
    "DATASET_PATH = \"../data/brats_2013_obs_path_list_unstacked_resized.txt\"\n",
    "\n",
    "obs_list = []\n",
    "\n",
    "with open(DATASET_PATH) as file:\n",
    "  for line in file:\n",
    "    obs_list.append(line.rstrip())"
   ]
  },
  {
   "cell_type": "code",
   "execution_count": 4,
   "metadata": {},
   "outputs": [],
   "source": [
    "dataset = BRATS2013Dataset(obs_list=obs_list, stage=None)"
   ]
  },
  {
   "cell_type": "code",
   "execution_count": 5,
   "metadata": {},
   "outputs": [],
   "source": [
    "segmentation_label_count_dict = {\n",
    "  \"0\": 0,\n",
    "  \"1\": 0,\n",
    "  \"2\": 0,\n",
    "  \"3\": 0,\n",
    "  \"4\": 0,\n",
    "  \"5\": 0,\n",
    "}"
   ]
  },
  {
   "cell_type": "code",
   "execution_count": 6,
   "metadata": {},
   "outputs": [
    {
     "data": {
      "application/vnd.jupyter.widget-view+json": {
       "model_id": "db7fdfd24d6a473394d14284f27e39fb",
       "version_major": 2,
       "version_minor": 0
      },
      "text/plain": [
       "  0%|          | 0/1000 [00:00<?, ?it/s]"
      ]
     },
     "metadata": {},
     "output_type": "display_data"
    }
   ],
   "source": [
    "range_elements = range(len(dataset))[:1000]\n",
    "datasubset = torch.utils.data.Subset(dataset, range_elements)\n",
    "\n",
    "pbar_epochs = tqdm(range_elements, colour=\"#9400d3\", position=1)\n",
    "\n",
    "for idx, entry in enumerate(datasubset):\n",
    "  pbar_epochs.update(1)\n",
    "\n",
    "  # Handling the very first dimension that is of size 1\n",
    "  # Yes, we should've squeezed it when we pre-processed the data... \n",
    "  # but we are lazy af :)\n",
    "  label = entry[\"label\"][0, ...].numpy()\n",
    "  \n",
    "  label_patches = skimage.util.view_as_windows(\n",
    "    arr_in=label, window_shape=(PATCH_SIZE, PATCH_SIZE), step=1\n",
    "  )\n",
    "\n",
    "  img = entry[\"img\"].numpy()\n",
    "  img = np.sum(img, axis=0)\n",
    "\n",
    "  img_patches = skimage.util.view_as_windows(\n",
    "    arr_in=img, window_shape=(PATCH_SIZE, PATCH_SIZE), step=1\n",
    "  )\n",
    "\n",
    "  seg_label_to_patch_id_dict = {\n",
    "    \"0\": [],\n",
    "    \"1\": [],\n",
    "    \"2\": [],\n",
    "    \"3\": [],\n",
    "    \"4\": [],\n",
    "    \"5\": [],\n",
    "  }\n",
    "\n",
    "  for i in range(label_patches.shape[0]):\n",
    "    for j in range(label_patches.shape[1]):\n",
    "      \n",
    "      if np.sum(img_patches[i, j, ...]).astype(np.int8) == 0:\n",
    "        continue\n",
    "      \n",
    "      label_value = int(label_patches[i, j, PATCH_SIZE//2, PATCH_SIZE//2])\n",
    "\n",
    "      seg_label_to_patch_id_dict[str(label_value)].append((i, j))\n",
    "\n",
    "      segmentation_label_count_dict[str(label_value)] += 1\n",
    "\n",
    "  seg_label_to_patch_id_path = f\"{entry['full_path']}/seg_label_to_patch_id_patch_size_{PATCH_SIZE}.json\"\n",
    "  with open(seg_label_to_patch_id_path, 'w') as fp:\n",
    "    json.dump(seg_label_to_patch_id_dict, fp)\n",
    "\n",
    "\n",
    "seg_label_count_path = f\"../data/brats_2013_seg_label_count_patch_size_{PATCH_SIZE}.json\"\n",
    "with open(seg_label_count_path, 'w') as fp:\n",
    "  json.dump(segmentation_label_count_dict, fp)\n",
    "\n"
   ]
  },
  {
   "cell_type": "code",
   "execution_count": 7,
   "metadata": {},
   "outputs": [
    {
     "data": {
      "text/plain": [
       "{'0': 13144701, '1': 236350, '2': 150474, '3': 65663, '4': 42702, '5': 20229}"
      ]
     },
     "execution_count": 7,
     "metadata": {},
     "output_type": "execute_result"
    }
   ],
   "source": [
    "segmentation_label_count_dict"
   ]
  }
 ],
 "metadata": {
  "kernelspec": {
   "display_name": "Python (Braver-Cat)",
   "language": "python",
   "name": "braver-cat"
  },
  "language_info": {
   "codemirror_mode": {
    "name": "ipython",
    "version": 3
   },
   "file_extension": ".py",
   "mimetype": "text/x-python",
   "name": "python",
   "nbconvert_exporter": "python",
   "pygments_lexer": "ipython3",
   "version": "3.10.4"
  },
  "orig_nbformat": 4,
  "vscode": {
   "interpreter": {
    "hash": "916dbcbb3f70747c44a77c7bcd40155683ae19c65e1c03b4aa3499c5328201f1"
   }
  }
 },
 "nbformat": 4,
 "nbformat_minor": 2
}
