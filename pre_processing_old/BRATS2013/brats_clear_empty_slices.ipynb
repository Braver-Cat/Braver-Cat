{
 "cells": [
  {
   "cell_type": "code",
   "execution_count": 1,
   "metadata": {},
   "outputs": [],
   "source": [
    "import sys\n",
    "\n",
    "# Setting path so as we can find files in ../src folder\n",
    "sys.path.append('../src')\n",
    "\n",
    "from BRATS2013Dataset import BRATS2013Dataset\n",
    "\n",
    "from tqdm.autonotebook import tqdm\n",
    "\n",
    "import torch\n",
    "\n",
    "import copy"
   ]
  },
  {
   "cell_type": "code",
   "execution_count": 2,
   "metadata": {},
   "outputs": [],
   "source": [
    "DATASET_PATH = \"../data/brats_2013_obs_path_list_unstacked_resized.txt\"\n",
    "\n",
    "obs_list = []\n",
    "\n",
    "with open(DATASET_PATH) as file:\n",
    "  for line in file:\n",
    "    obs_list.append(line.rstrip())"
   ]
  },
  {
   "cell_type": "code",
   "execution_count": 3,
   "metadata": {},
   "outputs": [],
   "source": [
    "dataset = BRATS2013Dataset(obs_list=obs_list, stage=\"train\")"
   ]
  },
  {
   "cell_type": "code",
   "execution_count": 4,
   "metadata": {},
   "outputs": [
    {
     "data": {
      "application/vnd.jupyter.widget-view+json": {
       "model_id": "af813eeb0dea4a63ae174ef3b9d2d932",
       "version_major": 2,
       "version_minor": 0
      },
      "text/plain": [
       "  0%|          | 0/4410 [00:00<?, ?it/s]"
      ]
     },
     "metadata": {},
     "output_type": "display_data"
    }
   ],
   "source": [
    "obs_list_clean = []\n",
    "\n",
    "for entry in tqdm(dataset):\n",
    "  \n",
    "  img_sum = int(torch.sum(entry[\"img\"]))\n",
    "\n",
    "  if img_sum != 0:\n",
    "    obs_list_clean.append(entry[\"full_path\"])\n",
    "  "
   ]
  },
  {
   "cell_type": "code",
   "execution_count": 5,
   "metadata": {},
   "outputs": [
    {
     "data": {
      "text/plain": [
       "3310"
      ]
     },
     "execution_count": 5,
     "metadata": {},
     "output_type": "execute_result"
    }
   ],
   "source": [
    "len(obs_list_clean)"
   ]
  },
  {
   "cell_type": "code",
   "execution_count": 6,
   "metadata": {},
   "outputs": [],
   "source": [
    "DATASET_LIST_PATH = \"../data/brats_2013_obs_path_list_unstacked_resized_cleaned.txt\""
   ]
  },
  {
   "cell_type": "code",
   "execution_count": 7,
   "metadata": {},
   "outputs": [],
   "source": [
    "with open(DATASET_LIST_PATH, 'w') as f:\n",
    "  for brats_ob_path in obs_list_clean:\n",
    "    f.write(f\"{brats_ob_path}\\n\")"
   ]
  }
 ],
 "metadata": {
  "kernelspec": {
   "display_name": "Python 3",
   "language": "python",
   "name": "python3"
  },
  "language_info": {
   "codemirror_mode": {
    "name": "ipython",
    "version": 3
   },
   "file_extension": ".py",
   "mimetype": "text/x-python",
   "name": "python",
   "nbconvert_exporter": "python",
   "pygments_lexer": "ipython3",
   "version": "3.10.6"
  },
  "orig_nbformat": 4,
  "vscode": {
   "interpreter": {
    "hash": "916dbcbb3f70747c44a77c7bcd40155683ae19c65e1c03b4aa3499c5328201f1"
   }
  }
 },
 "nbformat": 4,
 "nbformat_minor": 2
}
