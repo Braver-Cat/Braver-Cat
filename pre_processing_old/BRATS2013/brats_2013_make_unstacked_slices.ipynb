{
 "cells": [
  {
   "cell_type": "code",
   "execution_count": 1,
   "metadata": {},
   "outputs": [],
   "source": [
    "import os\n",
    "import SimpleITK as sitk\n",
    "import numpy as np\n",
    "from tqdm.autonotebook import tqdm\n",
    "\n",
    "%matplotlib inline\n",
    "import matplotlib.pyplot as plt\n",
    "plt.rcParams['figure.dpi'] = 100"
   ]
  },
  {
   "cell_type": "code",
   "execution_count": 2,
   "metadata": {},
   "outputs": [],
   "source": [
    "DATASET_PATH = f\"../data/BRATS2013/Image_Data/HG\""
   ]
  },
  {
   "cell_type": "code",
   "execution_count": 3,
   "metadata": {},
   "outputs": [
    {
     "data": {
      "application/vnd.jupyter.widget-view+json": {
       "model_id": "47f476c91976410694860f7c68fc8b29",
       "version_major": 2,
       "version_minor": 0
      },
      "text/plain": [
       "  0%|          | 0/20 [00:00<?, ?it/s]"
      ]
     },
     "metadata": {},
     "output_type": "display_data"
    },
    {
     "data": {
      "application/vnd.jupyter.widget-view+json": {
       "model_id": "7ab073ed91b04f909604d185732ae98a",
       "version_major": 2,
       "version_minor": 0
      },
      "text/plain": [
       "  0%|          | 0/216 [00:00<?, ?it/s]"
      ]
     },
     "metadata": {},
     "output_type": "display_data"
    }
   ],
   "source": [
    "obs_id_list = os.listdir(DATASET_PATH)\n",
    "\n",
    "obs_id_pbar = tqdm(obs_id_list, colour=\"darkviolet\")\n",
    "slice_pbar = tqdm(range(216), colour=\"#008080\", leave=False)\n",
    "\n",
    "for obs_id in obs_id_list:\n",
    "  \n",
    "  modalities_og = []\n",
    "  label_og = []\n",
    "  \n",
    "  obs_full_path = f\"{DATASET_PATH}/{obs_id}\"\n",
    "\n",
    "  obs_modalities_list = os.listdir(obs_full_path)\n",
    "\n",
    "  for obs_modality in obs_modalities_list:\n",
    "\n",
    "    img_path = f\"{obs_full_path}/{obs_modality}\"\n",
    "\n",
    "    img_name = list(\n",
    "      filter(lambda name: \"_N4ITK.mha\" in name, os.listdir(img_path))\n",
    "    )[0]\n",
    "    \n",
    "    img = sitk.ReadImage(f\"{img_path}/{img_name}\")\n",
    "    img_arr = sitk.GetArrayFromImage(img)\n",
    "\n",
    "    if (\".XX.XX.OT\" not in obs_modality): \n",
    "      modalities_og.append(img_arr)\n",
    "    \n",
    "    else: \n",
    "      label_og.append(img_arr)\n",
    "\n",
    "  modalities_np = np.asarray(modalities_og)\n",
    "  modalities_np_reshaped = np.transpose(modalities_np, (2, 0, 1, 3))\n",
    "\n",
    "  label_np = np.asarray(label_og)\n",
    "  label_np_reshaped = np.transpose(label_np, (2, 0, 1, 3))\n",
    "\n",
    "  slice_pbar.reset()\n",
    "\n",
    "  for slice in range(modalities_np_reshaped.shape[0]):\n",
    "    \n",
    "    slice_img = modalities_np_reshaped[slice, ...]\n",
    "    label_img = label_np_reshaped[slice, ...]\n",
    "\n",
    "    export_base_path = \"/\".join(obs_full_path.split(\"/\")[:3])\n",
    "    export_base_path = export_base_path.replace(\n",
    "      \"BRATS2013\", \"BRATS2013_unstacked_slices\"\n",
    "    )\n",
    "\n",
    "    export_dir_name = f\"{obs_id}_{str(slice).zfill(3)}\"\n",
    "    \n",
    "    export_full_path = f\"{export_base_path}/{export_dir_name}\"\n",
    "    \n",
    "    if not os.path.exists(export_full_path):\n",
    "      os.makedirs(export_full_path)\n",
    "\n",
    "    np.save(file=f\"{export_full_path}/img.npy\", arr=slice_img)\n",
    "    np.save(file=f\"{export_full_path}/label.npy\", arr=label_img)\n",
    "\n",
    "    slice_pbar.update(1)\n",
    "\n",
    "  obs_id_pbar.update(1)"
   ]
  }
 ],
 "metadata": {
  "kernelspec": {
   "display_name": "Braver-Cat",
   "language": "python",
   "name": "braver-cat"
  },
  "language_info": {
   "codemirror_mode": {
    "name": "ipython",
    "version": 3
   },
   "file_extension": ".py",
   "mimetype": "text/x-python",
   "name": "python",
   "nbconvert_exporter": "python",
   "pygments_lexer": "ipython3",
   "version": "3.10.6"
  },
  "orig_nbformat": 4
 },
 "nbformat": 4,
 "nbformat_minor": 2
}
